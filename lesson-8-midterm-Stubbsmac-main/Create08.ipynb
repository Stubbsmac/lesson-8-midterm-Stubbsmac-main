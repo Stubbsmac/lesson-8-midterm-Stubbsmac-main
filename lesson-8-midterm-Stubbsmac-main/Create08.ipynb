{
    "metadata": {
        "kernelspec": {
            "name": "SQL",
            "display_name": "SQL",
            "language": "sql"
        },
        "language_info": {
            "name": "sql",
            "version": ""
        }
    },
    "nbformat_minor": 2,
    "nbformat": 4,
    "cells": [
        {
            "cell_type": "markdown",
            "source": [
                "# **Midterm Project- Critter Country Zoo**\n",
                "\n",
                "Use the below cells to complete your scripts for the midterm projects. Feel free to add additional cells as needed."
            ],
            "metadata": {
                "azdata_cell_guid": "b7e0710f-fa38-41d7-931a-827cb2629c1f"
            },
            "attachments": {}
        },
        {
            "cell_type": "code",
            "source": [
                "--Create Transactions\r\n",
                "BEGIN TRY\r\n",
                "    BEGIN TRANSACTION;\r\n",
                "\r\n",
                "    --Create employee table\r\n",
                "    CREATE TABLE cc_employee (\r\n",
                "        employeeID INT PRIMARY KEY,\r\n",
                "        employeeName VARCHAR(50),\r\n",
                "        jobCategory VARCHAR(50),\r\n",
                "        salary DECIMAL(10, 2),\r\n",
                "        shift VARCHAR(10)\r\n",
                "    );\r\n",
                "\r\n",
                "    --Create enclosure table\r\n",
                "    CREATE TABLE cc_enclosure (\r\n",
                "        enclosureID INT PRIMARY KEY,\r\n",
                "        enclosureName VARCHAR(50),\r\n",
                "        minTemperature FLOAT,\r\n",
                "        maxTemperature FLOAT,\r\n",
                "        squareFootage FLOAT,\r\n",
                "        groundskeeperID INT,\r\n",
                "        FOREIGN KEY (groundskeeperID) REFERENCES cc_employee(employeeID)\r\n",
                "            ON DELETE SET NULL\r\n",
                "    );\r\n",
                "\r\n",
                "    --Create animal table\r\n",
                "    CREATE TABLE cc_animal (\r\n",
                "        animalType VARCHAR(50),\r\n",
                "        animalName VARCHAR(50),\r\n",
                "        age INT,\r\n",
                "        enclosureID INT,\r\n",
                "        diet VARCHAR(50),\r\n",
                "        trainerID INT,\r\n",
                "        FOREIGN KEY (enclosureID) REFERENCES cc_enclosure(enclosureID)\r\n",
                "            ON DELETE CASCADE,\r\n",
                "        FOREIGN KEY (trainerID) REFERENCES cc_employee(employeeID)\r\n",
                "            ON DELETE SET NULL\r\n",
                "    );\r\n",
                "\r\n",
                "    COMMIT TRANSACTION;\r\n",
                "END TRY\r\n",
                "\r\n",
                "BEGIN CATCH\r\n",
                "    ROLLBACK TRANSACTION;\r\n",
                "    PRINT 'Error: ' + ERROR_MESSAGE();\r\n",
                "END CATCH;\r\n",
                ""
            ],
            "metadata": {
                "azdata_cell_guid": "5b2befe1-7b9e-418f-a189-7330bd77790d",
                "language": "sql"
            },
            "outputs": [
                {
                    "output_type": "display_data",
                    "data": {
                        "text/html": "Commands completed successfully."
                    },
                    "metadata": {}
                },
                {
                    "output_type": "display_data",
                    "data": {
                        "text/html": "Total execution time: 00:00:00.105"
                    },
                    "metadata": {}
                }
            ],
            "execution_count": 5
        },
        {
            "cell_type": "code",
            "source": [
                "--Insert Transactions\r\n",
                "BEGIN TRY\r\n",
                "    BEGIN TRANSACTION;\r\n",
                "\r\n",
                "    --Insert employees\r\n",
                "    INSERT INTO cc_employee (employeeID, employeeName, jobCategory, salary, shift) \r\n",
                "    VALUES \r\n",
                "    (0001, 'Alice', 'Trainer', 45000, 'Day'),\r\n",
                "    (0002, 'Alf', 'Trainer', 46000, 'Night'),\r\n",
                "    (0003, 'Bob', 'Trainer', 47000, 'Day'),\r\n",
                "    (0004, 'Blake', 'Trainer', 48000, 'Night'),\r\n",
                "    (0005, 'Clyde', 'Trainer', 49000, 'Day'),  --Sacrifical Trainer\r\n",
                "    (0006, 'Sylvester', 'Groundskeeper', 35000, 'Day'),\r\n",
                "    (0007, 'Bugs', 'Groundskeeper', 36000, 'Day'),\r\n",
                "    (0008, 'Willy', 'Groundskeeper', 37000, 'Day'),\r\n",
                "    (0009, 'Leo', 'Groundskeeper', 37000, 'Day'),\r\n",
                "    (0010, 'Hanna', 'Groundskeeper', 37000, 'Day'),\r\n",
                "    (0011, 'Homer', 'Director', 90000, 'Day'),\r\n",
                "    (0012, 'Jack', 'Food Worker', 30000, 'Night'),\r\n",
                "    (0013, 'Karen', 'Food Worker', 32000, 'Day');\r\n",
                "\r\n",
                "    --Insert enclosures:\r\n",
                "    INSERT INTO cc_enclosure (enclosureID, enclosureName, minTemperature, maxTemperature, squareFootage, groundskeeperID)\r\n",
                "    VALUES \r\n",
                "    (1000, 'Waterworks', 50, 80, 5000, 0006),\r\n",
                "    (2000, 'Sundown Sahara', 85, 110, 6000, 0007),\r\n",
                "    (3000, 'Rowdy Rainforest', 70, 95, 4500, 0008),\r\n",
                "    (4000, 'Polar Place', 30, 50, 4000, 0009),\r\n",
                "    (5000, 'Windy Woods', 40, 60, 5500, 0010);\r\n",
                "\r\n",
                "    --Insert animals:\r\n",
                "    INSERT INTO cc_animal (animalType, animalName, age, enclosureID, diet, trainerID)\r\n",
                "    VALUES\r\n",
                "    ('Penguin', 'Pingu', 3, 4000, 'Fish', 0001),\r\n",
                "    ('Penguin', 'Waddles', 2, 4000, 'Fish', 0001),\r\n",
                "    ('Penguin', 'Flip', 4, 4000, 'Fish', 0001),\r\n",
                "    ('Lion', 'Simba', 5, 2000, 'Meat', 0002),\r\n",
                "    ('Lion', 'Nala', 4, 2000, 'Meat', 0002),\r\n",
                "    ('Parrot', 'Polly', 2, 3000, 'Fruit', 0003),\r\n",
                "    ('Parrot', 'Feathers', 3, 3000, 'Fruit', 0003),\r\n",
                "    ('Bear', 'Grizzly', 7, 5000, 'Meat', 0004),\r\n",
                "    ('Bear', 'Honey', 6, 5000, 'Meat', 0004),\r\n",
                "    ('Polar Bear', 'Snowball', 5, 4000, 'Fish', 0001),\r\n",
                "    ('Shark', 'Jaws', 3, 1000, 'Fish', 0001),\r\n",
                "    ('Shark', 'Fin', 4, 1000, 'Fish', 0001),\r\n",
                "    ('Shark', 'Bitey', 2, 1000, 'Fish', 0001),\r\n",
                "    ('Snake', 'Slither', 2, 3000, 'Meat', 0003),\r\n",
                "    ('Coyote', 'Howler', 5, 5000, 'Meat', 0004),\r\n",
                "    ('Coyote', 'Runner', 4, 5000, 'Meat', 0004),\r\n",
                "    ('Rhino', 'Chubby Unicorn', 6, 2000, 'Plants', 0002),\r\n",
                "    ('Hippo', 'Moo Deng', 7, 1000, 'Plants', 0001),\r\n",
                "    ('Hippo', 'Sally', 8, 1000, 'Plants', 0001);\r\n",
                "\r\n",
                "    COMMIT TRANSACTION;\r\n",
                "END TRY\r\n",
                "\r\n",
                "BEGIN CATCH\r\n",
                "    ROLLBACK TRANSACTION;\r\n",
                "    PRINT 'Error: ' + ERROR_MESSAGE();\r\n",
                "END CATCH;\r\n",
                ""
            ],
            "metadata": {
                "language": "sql",
                "azdata_cell_guid": "f3819653-90c2-41c6-83ab-ebc433f4e357"
            },
            "outputs": [
                {
                    "output_type": "display_data",
                    "data": {
                        "text/html": "(13 rows affected)"
                    },
                    "metadata": {}
                },
                {
                    "output_type": "display_data",
                    "data": {
                        "text/html": "(5 rows affected)"
                    },
                    "metadata": {}
                },
                {
                    "output_type": "display_data",
                    "data": {
                        "text/html": "(19 rows affected)"
                    },
                    "metadata": {}
                },
                {
                    "output_type": "display_data",
                    "data": {
                        "text/html": "Total execution time: 00:00:00.122"
                    },
                    "metadata": {}
                }
            ],
            "execution_count": 6
        },
        {
            "cell_type": "code",
            "source": [
                "--Business Need 1:\r\n",
                "BEGIN TRY\r\n",
                "    SELECT animalName, animalType\r\n",
                "    FROM cc_animal\r\n",
                "    WHERE enclosureID = 1000;\r\n",
                "END TRY\r\n",
                "\r\n",
                "BEGIN CATCH\r\n",
                "    PRINT 'Error: ' + ERROR_MESSAGE();\r\n",
                "END CATCH;\r\n",
                ""
            ],
            "metadata": {
                "language": "sql",
                "azdata_cell_guid": "f510b5f4-f88f-4e73-a5d6-ae9273c7e635"
            },
            "outputs": [
                {
                    "output_type": "display_data",
                    "data": {
                        "text/html": "(5 rows affected)"
                    },
                    "metadata": {}
                },
                {
                    "output_type": "display_data",
                    "data": {
                        "text/html": "Total execution time: 00:00:00.097"
                    },
                    "metadata": {}
                },
                {
                    "output_type": "execute_result",
                    "metadata": {},
                    "execution_count": 7,
                    "data": {
                        "application/vnd.dataresource+json": {
                            "schema": {
                                "fields": [
                                    {
                                        "name": "animalName"
                                    },
                                    {
                                        "name": "animalType"
                                    }
                                ]
                            },
                            "data": [
                                {
                                    "animalName": "Jaws",
                                    "animalType": "Shark"
                                },
                                {
                                    "animalName": "Fin",
                                    "animalType": "Shark"
                                },
                                {
                                    "animalName": "Bitey",
                                    "animalType": "Shark"
                                },
                                {
                                    "animalName": "Moo Deng",
                                    "animalType": "Hippo"
                                },
                                {
                                    "animalName": "Sally",
                                    "animalType": "Hippo"
                                }
                            ]
                        },
                        "text/html": [
                            "<table>",
                            "<tr><th>animalName</th><th>animalType</th></tr>",
                            "<tr><td>Jaws</td><td>Shark</td></tr>",
                            "<tr><td>Fin</td><td>Shark</td></tr>",
                            "<tr><td>Bitey</td><td>Shark</td></tr>",
                            "<tr><td>Moo Deng</td><td>Hippo</td></tr>",
                            "<tr><td>Sally</td><td>Hippo</td></tr>",
                            "</table>"
                        ]
                    }
                }
            ],
            "execution_count": 7
        },
        {
            "cell_type": "code",
            "source": [
                "--Business Need 2:\r\n",
                "BEGIN TRY\r\n",
                "    SELECT animalName, animalType\r\n",
                "    FROM cc_animal\r\n",
                "    WHERE trainerID = 0002;\r\n",
                "END TRY\r\n",
                "\r\n",
                "BEGIN CATCH\r\n",
                "    PRINT 'Error: ' + ERROR_MESSAGE();\r\n",
                "END CATCH;\r\n",
                ""
            ],
            "metadata": {
                "language": "sql",
                "azdata_cell_guid": "fa92d122-99c7-400c-b5a0-8c6f64492928"
            },
            "outputs": [
                {
                    "output_type": "display_data",
                    "data": {
                        "text/html": "(3 rows affected)"
                    },
                    "metadata": {}
                },
                {
                    "output_type": "display_data",
                    "data": {
                        "text/html": "Total execution time: 00:00:00.172"
                    },
                    "metadata": {}
                },
                {
                    "output_type": "execute_result",
                    "metadata": {},
                    "execution_count": 8,
                    "data": {
                        "application/vnd.dataresource+json": {
                            "schema": {
                                "fields": [
                                    {
                                        "name": "animalName"
                                    },
                                    {
                                        "name": "animalType"
                                    }
                                ]
                            },
                            "data": [
                                {
                                    "animalName": "Simba",
                                    "animalType": "Lion"
                                },
                                {
                                    "animalName": "Nala",
                                    "animalType": "Lion"
                                },
                                {
                                    "animalName": "Chubby Unicorn",
                                    "animalType": "Rhino"
                                }
                            ]
                        },
                        "text/html": [
                            "<table>",
                            "<tr><th>animalName</th><th>animalType</th></tr>",
                            "<tr><td>Simba</td><td>Lion</td></tr>",
                            "<tr><td>Nala</td><td>Lion</td></tr>",
                            "<tr><td>Chubby Unicorn</td><td>Rhino</td></tr>",
                            "</table>"
                        ]
                    }
                }
            ],
            "execution_count": 8
        },
        {
            "cell_type": "code",
            "source": [
                "--Business Need 3:\r\n",
                "BEGIN TRY\r\n",
                "    UPDATE cc_employee\r\n",
                "    SET salary = salary * 1.03;\r\n",
                "END TRY\r\n",
                "\r\n",
                "BEGIN CATCH\r\n",
                "    PRINT 'Error: ' + ERROR_MESSAGE();\r\n",
                "END CATCH;\r\n",
                "\r\n",
                "SELECT *\r\n",
                "FROM cc_employee;\r\n",
                ""
            ],
            "metadata": {
                "language": "sql",
                "azdata_cell_guid": "c409bf07-f0b7-4b5c-8e10-c0ebf9905f8a",
                "tags": []
            },
            "outputs": [
                {
                    "output_type": "display_data",
                    "data": {
                        "text/html": "(12 rows affected)"
                    },
                    "metadata": {}
                },
                {
                    "output_type": "display_data",
                    "data": {
                        "text/html": "(12 rows affected)"
                    },
                    "metadata": {}
                },
                {
                    "output_type": "display_data",
                    "data": {
                        "text/html": "Total execution time: 00:00:00.097"
                    },
                    "metadata": {}
                },
                {
                    "output_type": "execute_result",
                    "metadata": {},
                    "execution_count": 13,
                    "data": {
                        "application/vnd.dataresource+json": {
                            "schema": {
                                "fields": [
                                    {
                                        "name": "employeeID"
                                    },
                                    {
                                        "name": "employeeName"
                                    },
                                    {
                                        "name": "jobCategory"
                                    },
                                    {
                                        "name": "salary"
                                    },
                                    {
                                        "name": "shift"
                                    }
                                ]
                            },
                            "data": [
                                {
                                    "employeeID": "1",
                                    "employeeName": "Alice",
                                    "jobCategory": "Trainer",
                                    "salary": "47740.50",
                                    "shift": "Day"
                                },
                                {
                                    "employeeID": "2",
                                    "employeeName": "Alf",
                                    "jobCategory": "Trainer",
                                    "salary": "48801.40",
                                    "shift": "Night"
                                },
                                {
                                    "employeeID": "3",
                                    "employeeName": "Bob",
                                    "jobCategory": "Trainer",
                                    "salary": "49862.30",
                                    "shift": "Day"
                                },
                                {
                                    "employeeID": "4",
                                    "employeeName": "Blake",
                                    "jobCategory": "Trainer",
                                    "salary": "50923.20",
                                    "shift": "Night"
                                },
                                {
                                    "employeeID": "6",
                                    "employeeName": "Sylvester",
                                    "jobCategory": "Groundskeeper",
                                    "salary": "37131.50",
                                    "shift": "Day"
                                },
                                {
                                    "employeeID": "7",
                                    "employeeName": "Bugs",
                                    "jobCategory": "Groundskeeper",
                                    "salary": "38192.40",
                                    "shift": "Day"
                                },
                                {
                                    "employeeID": "8",
                                    "employeeName": "Willy",
                                    "jobCategory": "Groundskeeper",
                                    "salary": "39253.30",
                                    "shift": "Day"
                                },
                                {
                                    "employeeID": "9",
                                    "employeeName": "Leo",
                                    "jobCategory": "Groundskeeper",
                                    "salary": "39253.30",
                                    "shift": "Day"
                                },
                                {
                                    "employeeID": "10",
                                    "employeeName": "Hanna",
                                    "jobCategory": "Groundskeeper",
                                    "salary": "39253.30",
                                    "shift": "Day"
                                },
                                {
                                    "employeeID": "11",
                                    "employeeName": "Homer",
                                    "jobCategory": "Director",
                                    "salary": "95481.00",
                                    "shift": "Day"
                                },
                                {
                                    "employeeID": "12",
                                    "employeeName": "Jack",
                                    "jobCategory": "Food Worker",
                                    "salary": "31827.00",
                                    "shift": "Night"
                                },
                                {
                                    "employeeID": "13",
                                    "employeeName": "Karen",
                                    "jobCategory": "Food Worker",
                                    "salary": "33948.80",
                                    "shift": "Day"
                                }
                            ]
                        },
                        "text/html": [
                            "<table>",
                            "<tr><th>employeeID</th><th>employeeName</th><th>jobCategory</th><th>salary</th><th>shift</th></tr>",
                            "<tr><td>1</td><td>Alice</td><td>Trainer</td><td>47740.50</td><td>Day</td></tr>",
                            "<tr><td>2</td><td>Alf</td><td>Trainer</td><td>48801.40</td><td>Night</td></tr>",
                            "<tr><td>3</td><td>Bob</td><td>Trainer</td><td>49862.30</td><td>Day</td></tr>",
                            "<tr><td>4</td><td>Blake</td><td>Trainer</td><td>50923.20</td><td>Night</td></tr>",
                            "<tr><td>6</td><td>Sylvester</td><td>Groundskeeper</td><td>37131.50</td><td>Day</td></tr>",
                            "<tr><td>7</td><td>Bugs</td><td>Groundskeeper</td><td>38192.40</td><td>Day</td></tr>",
                            "<tr><td>8</td><td>Willy</td><td>Groundskeeper</td><td>39253.30</td><td>Day</td></tr>",
                            "<tr><td>9</td><td>Leo</td><td>Groundskeeper</td><td>39253.30</td><td>Day</td></tr>",
                            "<tr><td>10</td><td>Hanna</td><td>Groundskeeper</td><td>39253.30</td><td>Day</td></tr>",
                            "<tr><td>11</td><td>Homer</td><td>Director</td><td>95481.00</td><td>Day</td></tr>",
                            "<tr><td>12</td><td>Jack</td><td>Food Worker</td><td>31827.00</td><td>Night</td></tr>",
                            "<tr><td>13</td><td>Karen</td><td>Food Worker</td><td>33948.80</td><td>Day</td></tr>",
                            "</table>"
                        ]
                    }
                }
            ],
            "execution_count": 13
        },
        {
            "cell_type": "code",
            "source": [
                "--Business Need 4:\r\n",
                "BEGIN TRY\r\n",
                "    DELETE FROM cc_employee\r\n",
                "    WHERE employeeID = 0005;\r\n",
                "END TRY\r\n",
                "\r\n",
                "BEGIN CATCH\r\n",
                "    PRINT 'Error: ' + ERROR_MESSAGE();\r\n",
                "END CATCH;\r\n",
                "\r\n",
                "SELECT *\r\n",
                "FROM cc_employee;\r\n",
                ""
            ],
            "metadata": {
                "language": "sql",
                "azdata_cell_guid": "72393815-1164-4cbe-9748-4412a06d644e"
            },
            "outputs": [
                {
                    "output_type": "display_data",
                    "data": {
                        "text/html": "(0 rows affected)"
                    },
                    "metadata": {}
                },
                {
                    "output_type": "display_data",
                    "data": {
                        "text/html": "(12 rows affected)"
                    },
                    "metadata": {}
                },
                {
                    "output_type": "display_data",
                    "data": {
                        "text/html": "Total execution time: 00:00:00.124"
                    },
                    "metadata": {}
                },
                {
                    "output_type": "execute_result",
                    "metadata": {},
                    "execution_count": 12,
                    "data": {
                        "application/vnd.dataresource+json": {
                            "schema": {
                                "fields": [
                                    {
                                        "name": "employeeID"
                                    },
                                    {
                                        "name": "employeeName"
                                    },
                                    {
                                        "name": "jobCategory"
                                    },
                                    {
                                        "name": "salary"
                                    },
                                    {
                                        "name": "shift"
                                    }
                                ]
                            },
                            "data": [
                                {
                                    "employeeID": "1",
                                    "employeeName": "Alice",
                                    "jobCategory": "Trainer",
                                    "salary": "46350.00",
                                    "shift": "Day"
                                },
                                {
                                    "employeeID": "2",
                                    "employeeName": "Alf",
                                    "jobCategory": "Trainer",
                                    "salary": "47380.00",
                                    "shift": "Night"
                                },
                                {
                                    "employeeID": "3",
                                    "employeeName": "Bob",
                                    "jobCategory": "Trainer",
                                    "salary": "48410.00",
                                    "shift": "Day"
                                },
                                {
                                    "employeeID": "4",
                                    "employeeName": "Blake",
                                    "jobCategory": "Trainer",
                                    "salary": "49440.00",
                                    "shift": "Night"
                                },
                                {
                                    "employeeID": "6",
                                    "employeeName": "Sylvester",
                                    "jobCategory": "Groundskeeper",
                                    "salary": "36050.00",
                                    "shift": "Day"
                                },
                                {
                                    "employeeID": "7",
                                    "employeeName": "Bugs",
                                    "jobCategory": "Groundskeeper",
                                    "salary": "37080.00",
                                    "shift": "Day"
                                },
                                {
                                    "employeeID": "8",
                                    "employeeName": "Willy",
                                    "jobCategory": "Groundskeeper",
                                    "salary": "38110.00",
                                    "shift": "Day"
                                },
                                {
                                    "employeeID": "9",
                                    "employeeName": "Leo",
                                    "jobCategory": "Groundskeeper",
                                    "salary": "38110.00",
                                    "shift": "Day"
                                },
                                {
                                    "employeeID": "10",
                                    "employeeName": "Hanna",
                                    "jobCategory": "Groundskeeper",
                                    "salary": "38110.00",
                                    "shift": "Day"
                                },
                                {
                                    "employeeID": "11",
                                    "employeeName": "Homer",
                                    "jobCategory": "Director",
                                    "salary": "92700.00",
                                    "shift": "Day"
                                },
                                {
                                    "employeeID": "12",
                                    "employeeName": "Jack",
                                    "jobCategory": "Food Worker",
                                    "salary": "30900.00",
                                    "shift": "Night"
                                },
                                {
                                    "employeeID": "13",
                                    "employeeName": "Karen",
                                    "jobCategory": "Food Worker",
                                    "salary": "32960.00",
                                    "shift": "Day"
                                }
                            ]
                        },
                        "text/html": [
                            "<table>",
                            "<tr><th>employeeID</th><th>employeeName</th><th>jobCategory</th><th>salary</th><th>shift</th></tr>",
                            "<tr><td>1</td><td>Alice</td><td>Trainer</td><td>46350.00</td><td>Day</td></tr>",
                            "<tr><td>2</td><td>Alf</td><td>Trainer</td><td>47380.00</td><td>Night</td></tr>",
                            "<tr><td>3</td><td>Bob</td><td>Trainer</td><td>48410.00</td><td>Day</td></tr>",
                            "<tr><td>4</td><td>Blake</td><td>Trainer</td><td>49440.00</td><td>Night</td></tr>",
                            "<tr><td>6</td><td>Sylvester</td><td>Groundskeeper</td><td>36050.00</td><td>Day</td></tr>",
                            "<tr><td>7</td><td>Bugs</td><td>Groundskeeper</td><td>37080.00</td><td>Day</td></tr>",
                            "<tr><td>8</td><td>Willy</td><td>Groundskeeper</td><td>38110.00</td><td>Day</td></tr>",
                            "<tr><td>9</td><td>Leo</td><td>Groundskeeper</td><td>38110.00</td><td>Day</td></tr>",
                            "<tr><td>10</td><td>Hanna</td><td>Groundskeeper</td><td>38110.00</td><td>Day</td></tr>",
                            "<tr><td>11</td><td>Homer</td><td>Director</td><td>92700.00</td><td>Day</td></tr>",
                            "<tr><td>12</td><td>Jack</td><td>Food Worker</td><td>30900.00</td><td>Night</td></tr>",
                            "<tr><td>13</td><td>Karen</td><td>Food Worker</td><td>32960.00</td><td>Day</td></tr>",
                            "</table>"
                        ]
                    }
                }
            ],
            "execution_count": 12
        },
        {
            "cell_type": "code",
            "source": [
                "--Business Need 5:\r\n",
                "BEGIN TRY\r\n",
                "    SELECT enclosureName, minTemperature, maxTemperature, \r\n",
                "           (minTemperature + maxTemperature) / 2 AS avgTemperature\r\n",
                "    FROM cc_enclosure;\r\n",
                "END TRY\r\n",
                "\r\n",
                "BEGIN CATCH\r\n",
                "    PRINT 'Error: ' + ERROR_MESSAGE();\r\n",
                "END CATCH;\r\n",
                "\r\n",
                ""
            ],
            "metadata": {
                "language": "sql",
                "azdata_cell_guid": "29afbb5e-5573-4f40-b22e-0cfaceea7956"
            },
            "outputs": [
                {
                    "output_type": "display_data",
                    "data": {
                        "text/html": "(5 rows affected)"
                    },
                    "metadata": {}
                },
                {
                    "output_type": "display_data",
                    "data": {
                        "text/html": "Total execution time: 00:00:00.241"
                    },
                    "metadata": {}
                },
                {
                    "output_type": "execute_result",
                    "metadata": {},
                    "execution_count": 11,
                    "data": {
                        "application/vnd.dataresource+json": {
                            "schema": {
                                "fields": [
                                    {
                                        "name": "enclosureName"
                                    },
                                    {
                                        "name": "minTemperature"
                                    },
                                    {
                                        "name": "maxTemperature"
                                    },
                                    {
                                        "name": "avgTemperature"
                                    }
                                ]
                            },
                            "data": [
                                {
                                    "enclosureName": "Waterworks",
                                    "minTemperature": "50",
                                    "maxTemperature": "80",
                                    "avgTemperature": "65"
                                },
                                {
                                    "enclosureName": "Sundown Sahara",
                                    "minTemperature": "85",
                                    "maxTemperature": "110",
                                    "avgTemperature": "97.5"
                                },
                                {
                                    "enclosureName": "Rowdy Rainforest",
                                    "minTemperature": "70",
                                    "maxTemperature": "95",
                                    "avgTemperature": "82.5"
                                },
                                {
                                    "enclosureName": "Polar Place",
                                    "minTemperature": "30",
                                    "maxTemperature": "50",
                                    "avgTemperature": "40"
                                },
                                {
                                    "enclosureName": "Windy Woods",
                                    "minTemperature": "40",
                                    "maxTemperature": "60",
                                    "avgTemperature": "50"
                                }
                            ]
                        },
                        "text/html": [
                            "<table>",
                            "<tr><th>enclosureName</th><th>minTemperature</th><th>maxTemperature</th><th>avgTemperature</th></tr>",
                            "<tr><td>Waterworks</td><td>50</td><td>80</td><td>65</td></tr>",
                            "<tr><td>Sundown Sahara</td><td>85</td><td>110</td><td>97.5</td></tr>",
                            "<tr><td>Rowdy Rainforest</td><td>70</td><td>95</td><td>82.5</td></tr>",
                            "<tr><td>Polar Place</td><td>30</td><td>50</td><td>40</td></tr>",
                            "<tr><td>Windy Woods</td><td>40</td><td>60</td><td>50</td></tr>",
                            "</table>"
                        ]
                    }
                }
            ],
            "execution_count": 11
        },
        {
            "cell_type": "code",
            "source": [
                "--Business Need 6:\r\n",
                "BEGIN TRY\r\n",
                "    SELECT animalType, AVG(age) AS avgAge\r\n",
                "    FROM cc_animal\r\n",
                "    GROUP BY animalType;\r\n",
                "END TRY\r\n",
                "\r\n",
                "BEGIN CATCH\r\n",
                "    PRINT 'Error: ' + ERROR_MESSAGE();\r\n",
                "END CATCH;\r\n",
                ""
            ],
            "metadata": {
                "language": "sql",
                "azdata_cell_guid": "3e406010-568f-4108-a267-9eb1b2c6788d"
            },
            "outputs": [
                {
                    "output_type": "display_data",
                    "data": {
                        "text/html": "(10 rows affected)"
                    },
                    "metadata": {}
                },
                {
                    "output_type": "display_data",
                    "data": {
                        "text/html": "Total execution time: 00:00:00.127"
                    },
                    "metadata": {}
                },
                {
                    "output_type": "execute_result",
                    "metadata": {},
                    "execution_count": 14,
                    "data": {
                        "application/vnd.dataresource+json": {
                            "schema": {
                                "fields": [
                                    {
                                        "name": "animalType"
                                    },
                                    {
                                        "name": "avgAge"
                                    }
                                ]
                            },
                            "data": [
                                {
                                    "animalType": "Bear",
                                    "avgAge": "6"
                                },
                                {
                                    "animalType": "Coyote",
                                    "avgAge": "4"
                                },
                                {
                                    "animalType": "Hippo",
                                    "avgAge": "7"
                                },
                                {
                                    "animalType": "Lion",
                                    "avgAge": "4"
                                },
                                {
                                    "animalType": "Parrot",
                                    "avgAge": "2"
                                },
                                {
                                    "animalType": "Penguin",
                                    "avgAge": "3"
                                },
                                {
                                    "animalType": "Polar Bear",
                                    "avgAge": "5"
                                },
                                {
                                    "animalType": "Rhino",
                                    "avgAge": "6"
                                },
                                {
                                    "animalType": "Shark",
                                    "avgAge": "3"
                                },
                                {
                                    "animalType": "Snake",
                                    "avgAge": "2"
                                }
                            ]
                        },
                        "text/html": [
                            "<table>",
                            "<tr><th>animalType</th><th>avgAge</th></tr>",
                            "<tr><td>Bear</td><td>6</td></tr>",
                            "<tr><td>Coyote</td><td>4</td></tr>",
                            "<tr><td>Hippo</td><td>7</td></tr>",
                            "<tr><td>Lion</td><td>4</td></tr>",
                            "<tr><td>Parrot</td><td>2</td></tr>",
                            "<tr><td>Penguin</td><td>3</td></tr>",
                            "<tr><td>Polar Bear</td><td>5</td></tr>",
                            "<tr><td>Rhino</td><td>6</td></tr>",
                            "<tr><td>Shark</td><td>3</td></tr>",
                            "<tr><td>Snake</td><td>2</td></tr>",
                            "</table>"
                        ]
                    }
                }
            ],
            "execution_count": 14
        },
        {
            "cell_type": "code",
            "source": [
                "--Business Need 7:\r\n",
                "BEGIN TRY\r\n",
                "    SELECT jobCategory, SUM(salary) AS totalSalary\r\n",
                "    FROM cc_employee\r\n",
                "    GROUP BY jobCategory;\r\n",
                "END TRY\r\n",
                "\r\n",
                "BEGIN CATCH\r\n",
                "    PRINT 'Error: ' + ERROR_MESSAGE();\r\n",
                "END CATCH;\r\n",
                ""
            ],
            "metadata": {
                "language": "sql",
                "azdata_cell_guid": "81abc96b-9af0-45b5-8d71-4118a7887fde"
            },
            "outputs": [
{
    "output_type": "display_data",
    "data": {
        "text/html": "(4 rows affected)"
    },
    "metadata": {}
}, {
    "output_type": "display_data",
    "data": {
        "text/html": "Total execution time: 00:00:00.092"
    },
    "metadata": {}
}, {
    "output_type": "execute_result",
    "metadata": {},
    "execution_count": 15,
    "data": {
        "application/vnd.dataresource+json": {
            "schema": {
                "fields": [
                    {
                        "name": "jobCategory"
                    },
                    {
                        "name": "totalSalary"
                    }
                ]
            },
            "data": [
                {
                    "jobCategory": "Director",
                    "totalSalary": "95481.00"
                },
                {
                    "jobCategory": "Food Worker",
                    "totalSalary": "65775.80"
                },
                {
                    "jobCategory": "Groundskeeper",
                    "totalSalary": "193083.80"
                },
                {
                    "jobCategory": "Trainer",
                    "totalSalary": "197327.40"
                }
            ]
        },
        "text/html": [
            "<table>",
            "<tr><th>jobCategory</th><th>totalSalary</th></tr>",
            "<tr><td>Director</td><td>95481.00</td></tr>",
            "<tr><td>Food Worker</td><td>65775.80</td></tr>",
            "<tr><td>Groundskeeper</td><td>193083.80</td></tr>",
            "<tr><td>Trainer</td><td>197327.40</td></tr>",
            "</table>"
        ]
    }
}
],
            "execution_count": 15
        }
    ]
}